{
 "cells": [
  {
   "cell_type": "markdown",
   "id": "f7e092e6",
   "metadata": {},
   "source": [
    "Facciamo delle prove a convertire file e preprocessare!"
   ]
  },
  {
   "cell_type": "code",
   "execution_count": null,
   "id": "9d8ed14f",
   "metadata": {},
   "outputs": [
    {
     "name": "stderr",
     "output_type": "stream",
     "text": [
      "Converting pages:  36%|███▋      | 4/11 [02:27<04:18, 36.93s/it]\n"
     ]
    },
    {
     "ename": "KeyboardInterrupt",
     "evalue": "",
     "output_type": "error",
     "traceback": [
      "\u001b[31m---------------------------------------------------------------------------\u001b[39m",
      "\u001b[31mKeyboardInterrupt\u001b[39m                         Traceback (most recent call last)",
      "\u001b[36mCell\u001b[39m\u001b[36m \u001b[39m\u001b[32mIn[12]\u001b[39m\u001b[32m, line 15\u001b[39m\n\u001b[32m     12\u001b[39m \u001b[38;5;66;03m#last_page=396\u001b[39;00m\n\u001b[32m     14\u001b[39m \u001b[38;5;28;01mfor\u001b[39;00m i \u001b[38;5;129;01min\u001b[39;00m trange(first_page, last_page + \u001b[32m1\u001b[39m, desc=\u001b[33m\"\u001b[39m\u001b[33mConverting pages\u001b[39m\u001b[33m\"\u001b[39m):\n\u001b[32m---> \u001b[39m\u001b[32m15\u001b[39m     pages = \u001b[43mconvert_from_path\u001b[49m\u001b[43m(\u001b[49m\n\u001b[32m     16\u001b[39m \u001b[43m        \u001b[49m\u001b[43minput_file\u001b[49m\u001b[43m,\u001b[49m\n\u001b[32m     17\u001b[39m \u001b[43m        \u001b[49m\u001b[43mdpi\u001b[49m\u001b[43m=\u001b[49m\u001b[43mdpi\u001b[49m\u001b[43m,\u001b[49m\n\u001b[32m     18\u001b[39m \u001b[43m        \u001b[49m\u001b[43mfirst_page\u001b[49m\u001b[43m=\u001b[49m\u001b[43mi\u001b[49m\u001b[43m,\u001b[49m\n\u001b[32m     19\u001b[39m \u001b[43m        \u001b[49m\u001b[43mlast_page\u001b[49m\u001b[43m=\u001b[49m\u001b[43mi\u001b[49m\u001b[43m,\u001b[49m\n\u001b[32m     20\u001b[39m \u001b[43m        \u001b[49m\u001b[43mfmt\u001b[49m\u001b[43m=\u001b[49m\u001b[33;43m\"\u001b[39;49m\u001b[33;43mpng\u001b[39;49m\u001b[33;43m\"\u001b[39;49m\n\u001b[32m     21\u001b[39m \u001b[43m    \u001b[49m\u001b[43m)\u001b[49m\n\u001b[32m     22\u001b[39m     page = pages[\u001b[32m0\u001b[39m]\n\u001b[32m     23\u001b[39m     out_path = os.path.join(output_path, \u001b[33mf\u001b[39m\u001b[33m\"\u001b[39m\u001b[33mpage_\u001b[39m\u001b[38;5;132;01m{\u001b[39;00mi\u001b[38;5;132;01m:\u001b[39;00m\u001b[33m03d\u001b[39m\u001b[38;5;132;01m}\u001b[39;00m\u001b[33m.png\u001b[39m\u001b[33m\"\u001b[39m)\n",
      "\u001b[36mFile \u001b[39m\u001b[32m~/manuscriptrecognition/venv/lib/python3.13/site-packages/pdf2image/pdf2image.py:251\u001b[39m, in \u001b[36mconvert_from_path\u001b[39m\u001b[34m(pdf_path, dpi, output_folder, first_page, last_page, fmt, jpegopt, thread_count, userpw, ownerpw, use_cropbox, strict, transparent, single_file, output_file, poppler_path, grayscale, size, paths_only, use_pdftocairo, timeout, hide_annotations)\u001b[39m\n\u001b[32m    249\u001b[39m \u001b[38;5;28;01mfor\u001b[39;00m uid, proc \u001b[38;5;129;01min\u001b[39;00m processes:\n\u001b[32m    250\u001b[39m     \u001b[38;5;28;01mtry\u001b[39;00m:\n\u001b[32m--> \u001b[39m\u001b[32m251\u001b[39m         data, err = \u001b[43mproc\u001b[49m\u001b[43m.\u001b[49m\u001b[43mcommunicate\u001b[49m\u001b[43m(\u001b[49m\u001b[43mtimeout\u001b[49m\u001b[43m=\u001b[49m\u001b[43mtimeout\u001b[49m\u001b[43m)\u001b[49m\n\u001b[32m    252\u001b[39m     \u001b[38;5;28;01mexcept\u001b[39;00m TimeoutExpired:\n\u001b[32m    253\u001b[39m         proc.kill()\n",
      "\u001b[36mFile \u001b[39m\u001b[32m~/mypython/lib/python3.13/subprocess.py:1222\u001b[39m, in \u001b[36mPopen.communicate\u001b[39m\u001b[34m(self, input, timeout)\u001b[39m\n\u001b[32m   1219\u001b[39m     endtime = \u001b[38;5;28;01mNone\u001b[39;00m\n\u001b[32m   1221\u001b[39m \u001b[38;5;28;01mtry\u001b[39;00m:\n\u001b[32m-> \u001b[39m\u001b[32m1222\u001b[39m     stdout, stderr = \u001b[38;5;28;43mself\u001b[39;49m\u001b[43m.\u001b[49m\u001b[43m_communicate\u001b[49m\u001b[43m(\u001b[49m\u001b[38;5;28;43minput\u001b[39;49m\u001b[43m,\u001b[49m\u001b[43m \u001b[49m\u001b[43mendtime\u001b[49m\u001b[43m,\u001b[49m\u001b[43m \u001b[49m\u001b[43mtimeout\u001b[49m\u001b[43m)\u001b[49m\n\u001b[32m   1223\u001b[39m \u001b[38;5;28;01mexcept\u001b[39;00m \u001b[38;5;167;01mKeyboardInterrupt\u001b[39;00m:\n\u001b[32m   1224\u001b[39m     \u001b[38;5;66;03m# https://bugs.python.org/issue25942\u001b[39;00m\n\u001b[32m   1225\u001b[39m     \u001b[38;5;66;03m# See the detailed comment in .wait().\u001b[39;00m\n\u001b[32m   1226\u001b[39m     \u001b[38;5;28;01mif\u001b[39;00m timeout \u001b[38;5;129;01mis\u001b[39;00m \u001b[38;5;129;01mnot\u001b[39;00m \u001b[38;5;28;01mNone\u001b[39;00m:\n",
      "\u001b[36mFile \u001b[39m\u001b[32m~/mypython/lib/python3.13/subprocess.py:2128\u001b[39m, in \u001b[36mPopen._communicate\u001b[39m\u001b[34m(self, input, endtime, orig_timeout)\u001b[39m\n\u001b[32m   2121\u001b[39m     \u001b[38;5;28mself\u001b[39m._check_timeout(endtime, orig_timeout,\n\u001b[32m   2122\u001b[39m                         stdout, stderr,\n\u001b[32m   2123\u001b[39m                         skip_check_and_raise=\u001b[38;5;28;01mTrue\u001b[39;00m)\n\u001b[32m   2124\u001b[39m     \u001b[38;5;28;01mraise\u001b[39;00m \u001b[38;5;167;01mRuntimeError\u001b[39;00m(  \u001b[38;5;66;03m# Impossible :)\u001b[39;00m\n\u001b[32m   2125\u001b[39m         \u001b[33m'\u001b[39m\u001b[33m_check_timeout(..., skip_check_and_raise=True) \u001b[39m\u001b[33m'\u001b[39m\n\u001b[32m   2126\u001b[39m         \u001b[33m'\u001b[39m\u001b[33mfailed to raise TimeoutExpired.\u001b[39m\u001b[33m'\u001b[39m)\n\u001b[32m-> \u001b[39m\u001b[32m2128\u001b[39m ready = \u001b[43mselector\u001b[49m\u001b[43m.\u001b[49m\u001b[43mselect\u001b[49m\u001b[43m(\u001b[49m\u001b[43mtimeout\u001b[49m\u001b[43m)\u001b[49m\n\u001b[32m   2129\u001b[39m \u001b[38;5;28mself\u001b[39m._check_timeout(endtime, orig_timeout, stdout, stderr)\n\u001b[32m   2131\u001b[39m \u001b[38;5;66;03m# XXX Rewrite these to use non-blocking I/O on the file\u001b[39;00m\n\u001b[32m   2132\u001b[39m \u001b[38;5;66;03m# objects; they are no longer using C stdio!\u001b[39;00m\n",
      "\u001b[36mFile \u001b[39m\u001b[32m~/mypython/lib/python3.13/selectors.py:398\u001b[39m, in \u001b[36m_PollLikeSelector.select\u001b[39m\u001b[34m(self, timeout)\u001b[39m\n\u001b[32m    396\u001b[39m ready = []\n\u001b[32m    397\u001b[39m \u001b[38;5;28;01mtry\u001b[39;00m:\n\u001b[32m--> \u001b[39m\u001b[32m398\u001b[39m     fd_event_list = \u001b[38;5;28;43mself\u001b[39;49m\u001b[43m.\u001b[49m\u001b[43m_selector\u001b[49m\u001b[43m.\u001b[49m\u001b[43mpoll\u001b[49m\u001b[43m(\u001b[49m\u001b[43mtimeout\u001b[49m\u001b[43m)\u001b[49m\n\u001b[32m    399\u001b[39m \u001b[38;5;28;01mexcept\u001b[39;00m \u001b[38;5;167;01mInterruptedError\u001b[39;00m:\n\u001b[32m    400\u001b[39m     \u001b[38;5;28;01mreturn\u001b[39;00m ready\n",
      "\u001b[31mKeyboardInterrupt\u001b[39m: "
     ]
    }
   ],
   "source": [
    "import os\n",
    "from pdf2image import convert_from_path\n",
    "from tqdm import trange\n",
    "\n",
    "input_file =\"../data/raw/full/BerolPhill1516.pdf\"\n",
    "output_path=\"../data/raw/pages/BerolPhill1516\"\n",
    "os.makedirs(output_path, exist_ok=True)\n",
    "\n",
    "dpi=350\n",
    "first_page=13\n",
    "last_page=23\n",
    "#last_page=396\n",
    "\n",
    "for i in trange(first_page, last_page + 1, desc=\"Converting pages\"):\n",
    "    pages = convert_from_path(\n",
    "        input_file,\n",
    "        dpi=dpi,\n",
    "        first_page=i,\n",
    "        last_page=i,\n",
    "        fmt=\"png\"\n",
    "    )\n",
    "    page = pages[0]\n",
    "    out_path = os.path.join(output_path, f\"page_{i:03d}.png\")\n",
    "    page.save(out_path, \"PNG\")\n",
    "\n",
    "#USA POPPLER BRUTTO DISGRAZIATO"
   ]
  },
  {
   "cell_type": "code",
   "execution_count": 14,
   "id": "34e931a7",
   "metadata": {},
   "outputs": [
    {
     "name": "stdout",
     "output_type": "stream",
     "text": [
      "We will convert 14 pages!!\n"
     ]
    },
    {
     "name": "stderr",
     "output_type": "stream",
     "text": [
      "STO LAVORANDO:  64%|██████▍   | 9/14 [00:14<00:09,  1.88s/it]libpng error: Read Error\n",
      "STO LAVORANDO:  64%|██████▍   | 9/14 [00:15<00:08,  1.76s/it]\n"
     ]
    },
    {
     "ename": "error",
     "evalue": "OpenCV(4.12.0) /io/opencv/modules/imgcodecs/src/loadsave.cpp:1146: error: (-215:Assertion failed) !_img.empty() in function 'imwrite'\n",
     "output_type": "error",
     "traceback": [
      "\u001b[31m---------------------------------------------------------------------------\u001b[39m",
      "\u001b[31merror\u001b[39m                                     Traceback (most recent call last)",
      "\u001b[36mCell\u001b[39m\u001b[36m \u001b[39m\u001b[32mIn[14]\u001b[39m\u001b[32m, line 28\u001b[39m\n\u001b[32m     25\u001b[39m gsc_img = cv2.imread(path, cv2.IMREAD_GRAYSCALE)\n\u001b[32m     27\u001b[39m \u001b[38;5;66;03m#save gsc\u001b[39;00m\n\u001b[32m---> \u001b[39m\u001b[32m28\u001b[39m \u001b[43mcv2\u001b[49m\u001b[43m.\u001b[49m\u001b[43mimwrite\u001b[49m\u001b[43m(\u001b[49m\u001b[43mgsc_path\u001b[49m\u001b[43m,\u001b[49m\u001b[43m \u001b[49m\u001b[43mgsc_img\u001b[49m\u001b[43m)\u001b[49m\n\u001b[32m     30\u001b[39m _, bzd_img = cv2.threshold(\n\u001b[32m     31\u001b[39m     gsc_img, \n\u001b[32m     32\u001b[39m     \u001b[32m0\u001b[39m,\n\u001b[32m     33\u001b[39m     \u001b[32m255\u001b[39m,\n\u001b[32m     34\u001b[39m     cv2.THRESH_BINARY + cv2.THRESH_OTSU\n\u001b[32m     35\u001b[39m )\n\u001b[32m     37\u001b[39m \u001b[38;5;66;03m#save bzd\u001b[39;00m\n",
      "\u001b[31merror\u001b[39m: OpenCV(4.12.0) /io/opencv/modules/imgcodecs/src/loadsave.cpp:1146: error: (-215:Assertion failed) !_img.empty() in function 'imwrite'\n"
     ]
    }
   ],
   "source": [
    "import cv2\n",
    "import os\n",
    "\n",
    "\n",
    "input_dir = \"../data/raw/pages/BerolPhill1516\"\n",
    "gsc_dir = \"../data/processed/gsc\"\n",
    "bzd_dir = \"../data/processed/bzd\"\n",
    "ctr_dir = \"../data/processed/ctr\"\n",
    "\n",
    "os.makedirs(gsc_dir,exist_ok=True)\n",
    "os.makedirs(bzd_dir,exist_ok=True)\n",
    "os.makedirs(ctr_dir,exist_ok=True)\n",
    "\n",
    "images = sorted([f for f in os.listdir(input_dir) if f.endswith(\".png\")])\n",
    "\n",
    "print(f\"We will convert {len(images)} pages!!\")\n",
    "\n",
    "for name in tqdm(images, desc=\"STO LAVORANDO\"):\n",
    "    path = os.path.join(input_dir, name)\n",
    "\n",
    "    gsc_path = os.path.join(gsc_dir, name)\n",
    "    bzd_path = os.path.join(bzd_dir, name)\n",
    "    ctr_path = os.path.join(ctr_dir, name)\n",
    "\n",
    "    gsc_img = cv2.imread(path, cv2.IMREAD_GRAYSCALE)\n",
    "\n",
    "    #save gsc\n",
    "    cv2.imwrite(gsc_path, gsc_img)\n",
    "\n",
    "    _, bzd_img = cv2.threshold(\n",
    "        gsc_img, \n",
    "        0,\n",
    "        255,\n",
    "        cv2.THRESH_BINARY + cv2.THRESH_OTSU\n",
    "    )\n",
    "\n",
    "    #save bzd\n",
    "    cv2.imwrite(bzd_path, bzd_img)\n",
    "\n",
    "    blurred = cv2.GaussianBlur(gsc_img, (5,5), 0)\n",
    "    edges = cv2.Canny(blurred, threshold1=50, threshold2=150)\n",
    "    edges_inv = cv2.bitwise_not(edges)\n",
    "\n",
    "    #sace ctr\n",
    "    cv2.imwrite(ctr_path, edges_inv)"
   ]
  }
 ],
 "metadata": {
  "kernelspec": {
   "display_name": "venv",
   "language": "python",
   "name": "python3"
  },
  "language_info": {
   "codemirror_mode": {
    "name": "ipython",
    "version": 3
   },
   "file_extension": ".py",
   "mimetype": "text/x-python",
   "name": "python",
   "nbconvert_exporter": "python",
   "pygments_lexer": "ipython3",
   "version": "3.13.9"
  }
 },
 "nbformat": 4,
 "nbformat_minor": 5
}
